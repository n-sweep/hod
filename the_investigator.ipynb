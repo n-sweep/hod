{
 "cells": [
  {
   "cell_type": "code",
   "execution_count": null,
   "id": "4a6055bb",
   "metadata": {},
   "outputs": [],
   "source": [
    "import os\n",
    "import sqlite3\n",
    "import pandas as pd"
   ]
  },
  {
   "cell_type": "code",
   "execution_count": null,
   "id": "fb456b1c",
   "metadata": {},
   "outputs": [],
   "source": [
    "con = sqlite3.connect('./noahs.sqlite')\n",
    "df = pd.read_sql_query('select * from customers', con)"
   ]
  },
  {
   "cell_type": "code",
   "execution_count": null,
   "id": "97fe9658",
   "metadata": {},
   "outputs": [],
   "source": [
    "df.info()"
   ]
  },
  {
   "cell_type": "code",
   "execution_count": null,
   "id": "2f787bb2",
   "metadata": {},
   "outputs": [],
   "source": [
    "df.head()"
   ]
  },
  {
   "cell_type": "code",
   "execution_count": null,
   "id": "dff9028b",
   "metadata": {
    "lines_to_next_cell": 1
   },
   "outputs": [],
   "source": [
    "# ['Jr.', 'II', 'III', 'IV', 'V'] are not last names\n",
    "m = df['name'].str.split(' ').apply(len) != 2\n",
    "thirds = df[m]['name'].str.split(' ').apply(lambda x: x[-1])\n",
    "thirds.value_counts().head(10)"
   ]
  },
  {
   "cell_type": "code",
   "execution_count": null,
   "id": "252b850b",
   "metadata": {
    "lines_to_next_cell": 1
   },
   "outputs": [],
   "source": [
    "def parse_name(inp):\n",
    "    s = inp.split(' ')\n",
    "    name = s[:-1] if s[-1] in ['Jr.', 'II', 'III', 'IV', 'V'] else s\n",
    "    output = {\n",
    "        'first': name[0],\n",
    "        'middle': name[1] if len(name) > 2 else None,\n",
    "        'last': name[-1],\n",
    "    }\n",
    "    return output"
   ]
  },
  {
   "cell_type": "code",
   "execution_count": null,
   "id": "a540a2ff",
   "metadata": {},
   "outputs": [],
   "source": [
    "jdf = df.join(pd.json_normalize(df['name'].apply(parse_name).values))"
   ]
  },
  {
   "cell_type": "code",
   "execution_count": null,
   "id": "1d6a9365",
   "metadata": {},
   "outputs": [],
   "source": [
    "alpha = 'abcdefghijklmnopqrstuvwxyz'\n",
    "nums = []\n",
    "n = 2\n",
    "j = 0\n",
    "for i, char in enumerate(alpha):\n",
    "    nums.append(n)\n",
    "    k = 3 if n in (7, 9) else 2\n",
    "    if j == k:\n",
    "        n += 1\n",
    "        j = 0\n",
    "    else:\n",
    "        j += 1\n",
    "t9 = dict(zip(alpha, nums))"
   ]
  },
  {
   "cell_type": "code",
   "execution_count": null,
   "id": "9d5f419c",
   "metadata": {},
   "outputs": [],
   "source": [
    "jdf['last_phone'] = jdf['last'].apply(lambda x: ''.join([str(t9[c]) for c in x.lower()]))\n",
    "jdf['phone_nodash'] = jdf['phone'].str.replace('-', '')"
   ]
  },
  {
   "cell_type": "code",
   "execution_count": null,
   "id": "cd3b31ee",
   "metadata": {},
   "outputs": [],
   "source": [
    "jdf[jdf['last_phone'] == jdf['phone_nodash']]['phone']"
   ]
  },
  {
   "cell_type": "code",
   "execution_count": null,
   "id": "46a1afae",
   "metadata": {},
   "outputs": [],
   "source": []
  }
 ],
 "metadata": {
  "jupytext": {
   "main_language": "python"
  }
 },
 "nbformat": 4,
 "nbformat_minor": 5
}
